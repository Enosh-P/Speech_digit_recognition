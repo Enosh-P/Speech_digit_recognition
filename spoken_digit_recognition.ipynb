{
 "cells": [
  {
   "cell_type": "markdown",
   "id": "454e0124",
   "metadata": {
    "id": "454e0124"
   },
   "source": [
    "# Speaker-Independent Spoken Digit Recognition (xSDR)\n",
    "\n",
    "\n",
    "One of the successful stories of deep neural networks is the proliferation of commercial of automatic speech recognition (ASR) systems. This project aims to explore one application of ML-powered ASR to the problem of spoken digit recognition (SDR). Since digits are widely used as unique identifiers for bank information, social security numbers, post codes, etc, SDR systems can be an efficient alternative to fully-fledged ASR systems since the domain is more predictable than other applications of ASR. \n",
    "\n",
    "In this project, we focus on developing a SDR system in a speaker-independent setting. That is, the speakers in the evaluation set are disjoint from the training set speakers. We do so because we expect real-world ASR systems to generalize to different speakers than those we have data for. Moreover, for many languages that are under-resourced, we have have (limited) annotated speech data from a single speaker, but we would still want the system to be deployed to work on any speaker of that language. We tackle the problem of spoken digit recognition as a sequence classification task. Concretely, the inputs are short audio clips of a specific digit (in the range 0-9), then the goal is to build deep neural network models to classify a short audio clip and predict the digit that was spoken."
   ]
  },
  {
   "cell_type": "markdown",
   "id": "be83711d-f753-44e7-9521-8881623b9521",
   "metadata": {},
   "source": [
    "# Notes\n",
    "\n",
    "## Code Submission\n",
    "\n",
    "You don't necessarily need to complete the code in this Jupyter Notebook, you are free to use another notebook or a python script file, as you would like. You are expected to submit the code by **22.03.2023**.\n",
    "\n",
    "Your code should be clean and well commented. We also expect that if we decide to run it on our system, it should be straighforward to do so. We recommend creating a ```requirements.txt``` file with the names of all the libraries with their versions. If applicable, please mention the python version in a ```README.md``` file, which should also include instructions on how to run your code.\n",
    "\n",
    "As mentioned for the assignments, always remember to cite the code with the links as comments, if you decide to use it from a public repository.\n",
    "\n",
    "## Report Submission\n",
    "\n",
    "With the code, you are also expected to submit a report with a maximum of 4 pages. You should write your report in LaTeX using this template for ACL 2023 [Overleaf Link](https://www.overleaf.com/latex/templates/acl-2023-proceedings-template/qjdgcrdwcnwp). Use this document to fill in any missing information that are not necessarily covered during your presentation for the sake of time in the presentation. While writing your report, we would highly encourgae you to cite the papers behind each tool / library / function that you might use for your experiments. We have also released an example on how to write equations in LaTeX [here](https://piazza.com/class/l9so16qqvk34hu/post/52).\n",
    "\n",
    "You art also expected to submit this report with your code. You should provide the **.tex, .pdf and all image files** zipped with the same naming convention as it was in your assignment(s).\n",
    "\n",
    "## Presentation\n",
    "\n",
    "During the last week of March 2023, i.e. 27.03 -- 31.03, each team will be presenting their works for 15 minutes. We expect equal contribution from each member in delivery and content of the presentation. So roughly 5 minutes for one person, if you have 3 people in your team. There will be 5 minutes for some Q&A. At-least one person from your team should be present to do an in-person presentation, rest of your team could join remotely, if they are not present.\n",
    "\n",
    "## Important Dates\n",
    "\n",
    " - Code & Report Submission: 22.03.2023 (08.00)\n",
    " - Presentation: 27.03.2023 -- 31.03.2023\n",
    " \n",
    " You'll get a precise date and time for your team's presentation at a later time."
   ]
  },
  {
   "cell_type": "markdown",
   "id": "61601679-f2f0-437a-8233-54c5ab0cac17",
   "metadata": {},
   "source": [
    "### Grading\n",
    "\n",
    "In this project, your final grades will be determined as follows:\n",
    "\n",
    " - **30%**: &emsp; Completing all the tasks\n",
    " - **30%**: &emsp; Providing scientific-backings for all the methods used\n",
    " - **20%**: &emsp; Quality of the content of the presentation\n",
    " - **20%**: &emsp; Delivery of the presentation"
   ]
  },
  {
   "cell_type": "code",
   "execution_count": 1,
   "id": "020b704f",
   "metadata": {
    "executionInfo": {
     "elapsed": 3612,
     "status": "ok",
     "timestamp": 1674212543207,
     "user": {
      "displayName": "Hyoseung Kang",
      "userId": "00233629824676120159"
     },
     "user_tz": -60
    },
    "id": "020b704f"
   },
   "outputs": [],
   "source": [
    "#%matplotlib inline\n",
    "import numpy as np\n",
    "import scipy, matplotlib.pyplot as plt, IPython.display as ipd\n",
    "import librosa, librosa.display\n",
    "\n",
    "import pandas as pd\n",
    "\n",
    "from sklearn  import preprocessing\n",
    "\n",
    "\n",
    "from collections import defaultdict, Counter\n",
    "\n",
    "# add this to ignore warnings from Librosa\n",
    "import warnings\n",
    "warnings.filterwarnings('ignore')\n",
    "\n",
    "import random"
   ]
  },
  {
   "cell_type": "code",
   "execution_count": 2,
   "id": "2b2719f5",
   "metadata": {
    "executionInfo": {
     "elapsed": 20,
     "status": "ok",
     "timestamp": 1674212543209,
     "user": {
      "displayName": "Hyoseung Kang",
      "userId": "00233629824676120159"
     },
     "user_tz": -60
    },
    "id": "2b2719f5"
   },
   "outputs": [],
   "source": [
    "# for linear models \n",
    "from sklearn.linear_model import SGDClassifier\n",
    "from sklearn.preprocessing import StandardScaler\n",
    "from sklearn.metrics import accuracy_score\n",
    "from sklearn.metrics import plot_confusion_matrix\n",
    "from sklearn.metrics import classification_report\n",
    "from sklearn.metrics import confusion_matrix"
   ]
  },
  {
   "cell_type": "code",
   "execution_count": 3,
   "id": "f70e4098",
   "metadata": {
    "executionInfo": {
     "elapsed": 18,
     "status": "ok",
     "timestamp": 1674212543209,
     "user": {
      "displayName": "Hyoseung Kang",
      "userId": "00233629824676120159"
     },
     "user_tz": -60
    },
    "id": "f70e4098"
   },
   "outputs": [],
   "source": [
    "from sklearn.neural_network import MLPClassifier"
   ]
  },
  {
   "cell_type": "markdown",
   "id": "6a0a0884",
   "metadata": {
    "id": "6a0a0884"
   },
   "source": [
    "## Exploring the Dataset \n",
    "\n",
    "The speech samples are already divied into training, development, and test spilts. The splits are made in such way that evaluation speakers are not present in training split. You should use the splits as they are. \n",
    "\n",
    "**CAUTION:** \n",
    "\n",
    "In this project, you are not allowed to use any external data for this problem (at least for the main three tasks). Exploring the effect of additional datasets in this project can only included as a further step after completing the main requirements with the given data. "
   ]
  },
  {
   "cell_type": "code",
   "execution_count": 4,
   "id": "c40503e1",
   "metadata": {
    "id": "c40503e1"
   },
   "outputs": [],
   "source": [
    "# read tsv file into a dataframe \n",
    "sdr_df = pd.read_csv('SDR_metadata.tsv', sep='\\t', header=0, index_col='Unnamed: 0')"
   ]
  },
  {
   "cell_type": "code",
   "execution_count": 5,
   "id": "b9a087bc",
   "metadata": {
    "executionInfo": {
     "elapsed": 16,
     "status": "aborted",
     "timestamp": 1674212543211,
     "user": {
      "displayName": "Hyoseung Kang",
      "userId": "00233629824676120159"
     },
     "user_tz": -60
    },
    "id": "b9a087bc"
   },
   "outputs": [
    {
     "data": {
      "text/html": [
       "<div>\n",
       "<style scoped>\n",
       "    .dataframe tbody tr th:only-of-type {\n",
       "        vertical-align: middle;\n",
       "    }\n",
       "\n",
       "    .dataframe tbody tr th {\n",
       "        vertical-align: top;\n",
       "    }\n",
       "\n",
       "    .dataframe thead th {\n",
       "        text-align: right;\n",
       "    }\n",
       "</style>\n",
       "<table border=\"1\" class=\"dataframe\">\n",
       "  <thead>\n",
       "    <tr style=\"text-align: right;\">\n",
       "      <th></th>\n",
       "      <th>identifier</th>\n",
       "      <th>speaker</th>\n",
       "      <th>split</th>\n",
       "      <th>label</th>\n",
       "      <th>file</th>\n",
       "    </tr>\n",
       "  </thead>\n",
       "  <tbody>\n",
       "    <tr>\n",
       "      <th>0</th>\n",
       "      <td>5_theo_23</td>\n",
       "      <td>theo</td>\n",
       "      <td>TRAIN</td>\n",
       "      <td>5</td>\n",
       "      <td>speech_data/5_theo_23.wav</td>\n",
       "    </tr>\n",
       "    <tr>\n",
       "      <th>1</th>\n",
       "      <td>2_yweweler_39</td>\n",
       "      <td>yweweler</td>\n",
       "      <td>TEST</td>\n",
       "      <td>2</td>\n",
       "      <td>speech_data/2_yweweler_39.wav</td>\n",
       "    </tr>\n",
       "    <tr>\n",
       "      <th>2</th>\n",
       "      <td>6_yweweler_34</td>\n",
       "      <td>yweweler</td>\n",
       "      <td>DEV</td>\n",
       "      <td>6</td>\n",
       "      <td>speech_data/6_yweweler_34.wav</td>\n",
       "    </tr>\n",
       "    <tr>\n",
       "      <th>3</th>\n",
       "      <td>6_yweweler_16</td>\n",
       "      <td>yweweler</td>\n",
       "      <td>DEV</td>\n",
       "      <td>6</td>\n",
       "      <td>speech_data/6_yweweler_16.wav</td>\n",
       "    </tr>\n",
       "    <tr>\n",
       "      <th>4</th>\n",
       "      <td>9_yweweler_2</td>\n",
       "      <td>yweweler</td>\n",
       "      <td>TEST</td>\n",
       "      <td>9</td>\n",
       "      <td>speech_data/9_yweweler_2.wav</td>\n",
       "    </tr>\n",
       "  </tbody>\n",
       "</table>\n",
       "</div>"
      ],
      "text/plain": [
       "      identifier   speaker  split  label                           file\n",
       "0      5_theo_23      theo  TRAIN      5      speech_data/5_theo_23.wav\n",
       "1  2_yweweler_39  yweweler   TEST      2  speech_data/2_yweweler_39.wav\n",
       "2  6_yweweler_34  yweweler    DEV      6  speech_data/6_yweweler_34.wav\n",
       "3  6_yweweler_16  yweweler    DEV      6  speech_data/6_yweweler_16.wav\n",
       "4   9_yweweler_2  yweweler   TEST      9   speech_data/9_yweweler_2.wav"
      ]
     },
     "execution_count": 5,
     "metadata": {},
     "output_type": "execute_result"
    }
   ],
   "source": [
    "sdr_df.head()"
   ]
  },
  {
   "cell_type": "code",
   "execution_count": 6,
   "id": "4c34786a",
   "metadata": {
    "executionInfo": {
     "elapsed": 17,
     "status": "aborted",
     "timestamp": 1674212543212,
     "user": {
      "displayName": "Hyoseung Kang",
      "userId": "00233629824676120159"
     },
     "user_tz": -60
    },
    "id": "4c34786a"
   },
   "outputs": [
    {
     "data": {
      "text/plain": [
       "{'george', 'jackson', 'lucas', 'nicolas', 'theo', 'yweweler'}"
      ]
     },
     "execution_count": 6,
     "metadata": {},
     "output_type": "execute_result"
    }
   ],
   "source": [
    "set(sdr_df.speaker.values)"
   ]
  },
  {
   "cell_type": "code",
   "execution_count": 26,
   "id": "155ea375",
   "metadata": {
    "executionInfo": {
     "elapsed": 17,
     "status": "aborted",
     "timestamp": 1674212543213,
     "user": {
      "displayName": "Hyoseung Kang",
      "userId": "00233629824676120159"
     },
     "user_tz": -60
    },
    "id": "155ea375"
   },
   "outputs": [
    {
     "data": {
      "text/html": [
       "<div>\n",
       "<style scoped>\n",
       "    .dataframe tbody tr th:only-of-type {\n",
       "        vertical-align: middle;\n",
       "    }\n",
       "\n",
       "    .dataframe tbody tr th {\n",
       "        vertical-align: top;\n",
       "    }\n",
       "\n",
       "    .dataframe thead th {\n",
       "        text-align: right;\n",
       "    }\n",
       "</style>\n",
       "<table border=\"1\" class=\"dataframe\">\n",
       "  <thead>\n",
       "    <tr style=\"text-align: right;\">\n",
       "      <th></th>\n",
       "      <th>identifier</th>\n",
       "      <th>speaker</th>\n",
       "      <th>split</th>\n",
       "      <th>label</th>\n",
       "      <th>file</th>\n",
       "    </tr>\n",
       "  </thead>\n",
       "  <tbody>\n",
       "    <tr>\n",
       "      <th>700</th>\n",
       "      <td>7_theo_0</td>\n",
       "      <td>theo</td>\n",
       "      <td>TRAIN</td>\n",
       "      <td>7</td>\n",
       "      <td>speech_data/7_theo_0.wav</td>\n",
       "    </tr>\n",
       "  </tbody>\n",
       "</table>\n",
       "</div>"
      ],
      "text/plain": [
       "    identifier speaker  split  label                      file\n",
       "700   7_theo_0    theo  TRAIN      7  speech_data/7_theo_0.wav"
      ]
     },
     "execution_count": 26,
     "metadata": {},
     "output_type": "execute_result"
    }
   ],
   "source": [
    "# explore one sample: 7_theo_0\n",
    "sdr_df.loc[sdr_df['identifier'] == '7_theo_0']"
   ]
  },
  {
   "cell_type": "code",
   "execution_count": 43,
   "id": "77378cf5",
   "metadata": {},
   "outputs": [
    {
     "name": "stdout",
     "output_type": "stream",
     "text": [
      "15 229\n"
     ]
    }
   ],
   "source": [
    "spectogram_data = []\n",
    "for i in sdr_df.loc[sdr_df['split'] == 'TRAIN'].file:\n",
    "    x, sr = librosa.load(i, sr=SAMPLING_RATE)\n",
    "    spectogram_data.append(extract_melspectrogram(x, sr, num_mels=13))\n",
    "mini, maxi = 100, 1 \n",
    "for i in spectogram_data:\n",
    "    #print(i.shape)\n",
    "    mini = min(mini, i.shape[1])\n",
    "    maxi = max(maxi, i.shape[1])\n",
    "print(mini, maxi)"
   ]
  },
  {
   "cell_type": "code",
   "execution_count": null,
   "id": "ed8fc36a",
   "metadata": {},
   "outputs": [],
   "source": []
  },
  {
   "cell_type": "code",
   "execution_count": 9,
   "id": "e03e0920",
   "metadata": {
    "executionInfo": {
     "elapsed": 18,
     "status": "aborted",
     "timestamp": 1674212543214,
     "user": {
      "displayName": "Hyoseung Kang",
      "userId": "00233629824676120159"
     },
     "user_tz": -60
    },
    "id": "e03e0920"
   },
   "outputs": [],
   "source": [
    "sample_wav_file = sdr_df.loc[sdr_df['identifier'] == '7_theo_0'].file[700]"
   ]
  },
  {
   "cell_type": "markdown",
   "id": "6ab5f7e7",
   "metadata": {
    "id": "6ab5f7e7"
   },
   "source": [
    "## The Speech Waveform\n",
    "\n",
    "The acoustic realization of speech segment can be (digitally) viewed as a time-variant wavform $\\mathbf{S} \\in \\mathbb{R}^{n}$. Here, $n$ depends on both the duration of the speech segment and the sampling rate of the continous speech singal. Let's check out one sample from the data set. "
   ]
  },
  {
   "cell_type": "code",
   "execution_count": 28,
   "id": "ac93353b",
   "metadata": {
    "executionInfo": {
     "elapsed": 18,
     "status": "aborted",
     "timestamp": 1674212543214,
     "user": {
      "displayName": "Hyoseung Kang",
      "userId": "00233629824676120159"
     },
     "user_tz": -60
    },
    "id": "ac93353b"
   },
   "outputs": [
    {
     "data": {
      "text/html": [
       "\n",
       "                <audio  controls=\"controls\" >\n",
       "                    <source src=\"data:audio/wav;base64,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\" type=\"audio/wav\" />\n",
       "                    Your browser does not support the audio element.\n",
       "                </audio>\n",
       "              "
      ],
      "text/plain": [
       "<IPython.lib.display.Audio object>"
      ]
     },
     "execution_count": 28,
     "metadata": {},
     "output_type": "execute_result"
    }
   ],
   "source": [
    "# play and listen to a sample \n",
    "SAMPLING_RATE = 8000 # This value is determined by the wav file, DO NOT CHANGE\n",
    "\n",
    "x, sr = librosa.load(sample_wav_file, sr=SAMPLING_RATE) #, \n",
    "ipd.Audio(x, rate=sr)"
   ]
  },
  {
   "cell_type": "code",
   "execution_count": 11,
   "id": "b7438910",
   "metadata": {
    "executionInfo": {
     "elapsed": 19,
     "status": "aborted",
     "timestamp": 1674212543215,
     "user": {
      "displayName": "Hyoseung Kang",
      "userId": "00233629824676120159"
     },
     "user_tz": -60
    },
    "id": "b7438910"
   },
   "outputs": [
    {
     "data": {
      "image/png": "[encoded data removed]",
      "text/plain": [
       "<Figure size 1000x200 with 1 Axes>"
      ]
     },
     "metadata": {},
     "output_type": "display_data"
    }
   ],
   "source": [
    "# plot as a waveform \n",
    "fig, ax = plt.subplots(figsize=(10, 2), sharex=True)\n",
    "\n",
    "img = librosa.display.waveshow(y=x, sr=sr, alpha=0.75, x_axis='time', color='blue')\n",
    "\n",
    "ax.set(title='Amplitude waveform')\n",
    "ax.set_ylabel('Amplitude')\n",
    "ax.label_outer()"
   ]
  },
  {
   "cell_type": "code",
   "execution_count": 12,
   "id": "3c4297e5",
   "metadata": {
    "executionInfo": {
     "elapsed": 20,
     "status": "aborted",
     "timestamp": 1674212543216,
     "user": {
      "displayName": "Hyoseung Kang",
      "userId": "00233629824676120159"
     },
     "user_tz": -60
    },
    "id": "3c4297e5"
   },
   "outputs": [
    {
     "data": {
      "text/plain": [
       "428.5"
      ]
     },
     "execution_count": 12,
     "metadata": {},
     "output_type": "execute_result"
    }
   ],
   "source": [
    "# sample duration in milliseconds\n",
    "(1000*len(x))/SAMPLING_RATE"
   ]
  },
  {
   "cell_type": "markdown",
   "id": "3df44120",
   "metadata": {
    "id": "3df44120"
   },
   "source": [
    "In the cell above, you can see the temporal duration of the audio is 428.5 milliseconds. For digits in the range 0-9, the duration of the speech segment should be around 0.5 seconds with reasonable variation depending on speech rate (i.e., how fast the speaker speaks). "
   ]
  },
  {
   "cell_type": "markdown",
   "id": "d2a0c08e",
   "metadata": {
    "id": "d2a0c08e"
   },
   "source": [
    "## The Speech Signal Representation - Mel Spectrograms"
   ]
  },
  {
   "cell_type": "markdown",
   "id": "6370d9c2",
   "metadata": {
    "id": "6370d9c2"
   },
   "source": [
    "Humans can recognize and differentiate different speech sounds based on the frequency characteristics of the sounds. For machine learning applications, human speech is represented using spectro-temporal features in the [Mel-scale](https://en.wikipedia.org/wiki/Mel_scale) extracted from the speech sample. Mel-scale features are inspired by human speech perception and auditory processing whereby the human ear has difference sensitivity (or resolution) in differet frequency bandes. That is, the human ear can better recognize differences in in lower range frequences, while higher range frequences have a lower resolution. The Mel-scale is linear for frequencies in the range (0-1kHz), and logarithmic for frequencies above 1kHz.\n",
    "\n",
    "In the spectro-temporal representation of speech, a speech sample can be seen as a sequence of $T$ spectral vectors as $\\mathbf{X} = (\\mathbf{x}^1, \\mathbf{x}^2, \\dots, \\mathbf{x}^T)$. Each spectral vector $\\mathbf{x}^t \\in \\mathbb{R}^{k}$ at time-step $t$ is extracted from a short speech segment (~25 milliseconds) with the assumption that the signal is time-invariant in this small time window. Here, $k$ is the number of frequency bands in the [spectrogram](https://en.wikipedia.org/wiki/Spectrogram) and this is a parameter of the feature extraction pipeline. The representation is based on the Fourier transform to convert the temporal signal into the frequency domain. \n",
    "\n",
    "In automatic speech recognition (ASR) research and applications, spectral vectors are usually referred to as \"acoustic frames\". Morover, adjacent frames are extracted with some overlap between them, usually ~10 milliseconds. "
   ]
  },
  {
   "cell_type": "code",
   "execution_count": 53,
   "id": "ef41492d",
   "metadata": {
    "executionInfo": {
     "elapsed": 20,
     "status": "aborted",
     "timestamp": 1674212543217,
     "user": {
      "displayName": "Hyoseung Kang",
      "userId": "00233629824676120159"
     },
     "user_tz": -60
    },
    "id": "ef41492d"
   },
   "outputs": [],
   "source": [
    "def extract_melspectrogram(signal, sr, num_mels):\n",
    "    \"\"\"\n",
    "    Given a time series speech signal (.wav), sampling rate (sr), \n",
    "    and the number of mel coefficients, return a mel-scaled \n",
    "    representation of the signal as numpy array.\n",
    "    \"\"\"\n",
    "    \n",
    "    mel_features = librosa.feature.melspectrogram(y=signal,\n",
    "        sr=sr,\n",
    "        n_fft=200, # with sampling rate = 8000, this corresponds to 25 ms\n",
    "        hop_length=80, # with sampling rate = 8000, this corresponds to 10 ms\n",
    "        n_mels=num_mels, # number of frequency bins, use either 13 or 39\n",
    "        fmin=50, # min frequency threshold\n",
    "        fmax=4000 # max frequency threshold, set to SAMPLING_RATE/2\n",
    "    )\n",
    "    \n",
    "    # for numerical stability added this line\n",
    "    mel_features = np.where(mel_features == 0, np.finfo(float).eps, mel_features)\n",
    "\n",
    "    # 20 * log10 to convert to log scale\n",
    "    log_mel_features = 20*np.log10(mel_features)\n",
    "\n",
    "    # feature scaling\n",
    "    scaled_log_mel_features = preprocessing.scale(log_mel_features, axis=1)\n",
    "    \n",
    "    return scaled_log_mel_features"
   ]
  },
  {
   "cell_type": "code",
   "execution_count": 54,
   "id": "1f2831a2",
   "metadata": {},
   "outputs": [],
   "source": [
    "melspectrogram = extract_melspectrogram(x, sr, num_mels=13)"
   ]
  },
  {
   "cell_type": "code",
   "execution_count": 87,
   "id": "3600d78e",
   "metadata": {
    "executionInfo": {
     "elapsed": 21,
     "status": "aborted",
     "timestamp": 1674212543218,
     "user": {
      "displayName": "Hyoseung Kang",
      "userId": "00233629824676120159"
     },
     "user_tz": -60
    },
    "id": "3600d78e"
   },
   "outputs": [
    {
     "name": "stdout",
     "output_type": "stream",
     "text": [
      "51 3 13\n",
      "6\n"
     ]
    },
    {
     "data": {
      "text/plain": [
       "(195,)"
      ]
     },
     "execution_count": 87,
     "metadata": {},
     "output_type": "execute_result"
    }
   ],
   "source": [
    "N = 15\n",
    "k, T = melspectrogram.shape\n",
    "split_size = T // N\n",
    "remaining_size = T % N\n",
    "splitted_X = []\n",
    "for i in range(N):\n",
    "    if remaining_size:\n",
    "        remaining_size -= 1\n",
    "        splitted_X.append(melspectrogram[:, i*split_size:(i+1)*split_size+1])\n",
    "        continue\n",
    "    splitted_X.append(melspectrogram[:, i*split_size:(i+1)*split_size])\n",
    "mean_arr = []\n",
    "for split in splitted_X:\n",
    "    mean_arr.append(np.mean(split, axis=1)) \n",
    "new_arr = np.column_stack(mean_arr)\n",
    "final = np.reshape(new_arr, (N*k,))"
   ]
  },
  {
   "cell_type": "code",
   "execution_count": 74,
   "id": "a9d472bb",
   "metadata": {},
   "outputs": [
    {
     "data": {
      "text/plain": [
       "array([[-2.97021198e+00, -1.82726622e+00, -1.26787043e+00,\n",
       "        -7.43739456e-02,  6.46929562e-01,  6.80351377e-01,\n",
       "         8.83502901e-01,  9.01455522e-01,  6.55475080e-01,\n",
       "         6.54103100e-01,  7.55525708e-01,  6.81510985e-01,\n",
       "         7.43224978e-01,  8.16262007e-01,  5.84836066e-01,\n",
       "         4.49537009e-01,  5.07379234e-01,  4.49840993e-01,\n",
       "         5.11854172e-01,  5.49657822e-01,  7.40666807e-01,\n",
       "         9.26913679e-01,  9.83042359e-01,  1.04044807e+00,\n",
       "         1.18668902e+00,  1.28012919e+00,  1.27757943e+00,\n",
       "         1.20623577e+00,  1.09796381e+00,  8.17502081e-01,\n",
       "         2.37611681e-01,  9.75962132e-02,  1.42554954e-01,\n",
       "         2.92923227e-02, -7.16918558e-02, -2.43651077e-01,\n",
       "        -7.36365676e-01, -6.27402604e-01, -3.70261580e-01,\n",
       "        -2.75564909e-01, -3.00601959e-01, -5.90850711e-01,\n",
       "        -1.22336495e+00, -1.49964201e+00, -1.60459232e+00,\n",
       "        -1.23273289e+00, -1.21953154e+00, -1.13484657e+00,\n",
       "        -1.28330112e+00, -1.20754361e+00, -1.77400422e+00],\n",
       "       [-2.17331624e+00, -1.43931162e+00, -1.77854133e+00,\n",
       "        -9.68828321e-01, -3.88809234e-01,  2.02385951e-02,\n",
       "         6.60290897e-01,  9.57185626e-01,  1.19356084e+00,\n",
       "         1.21328163e+00,  1.19760549e+00,  1.27594817e+00,\n",
       "         1.20334589e+00,  9.51982319e-01,  5.88467300e-01,\n",
       "         3.95485282e-01,  4.81705219e-01,  4.73623186e-01,\n",
       "         4.94217366e-01,  5.34887135e-01,  9.11008060e-01,\n",
       "         1.01933467e+00,  1.00348437e+00,  1.05333018e+00,\n",
       "         1.10159159e+00,  1.14166772e+00,  1.14528859e+00,\n",
       "         1.13222790e+00,  1.05642939e+00,  7.54443705e-01,\n",
       "         1.54745713e-01, -8.03103298e-02,  7.18054846e-02,\n",
       "         3.72624248e-02, -5.97469024e-02, -2.71904647e-01,\n",
       "        -8.37508976e-01, -7.43665099e-01, -3.75477403e-01,\n",
       "        -2.99369216e-01, -3.37920755e-01, -6.42332911e-01,\n",
       "        -1.23368657e+00, -1.69405854e+00, -1.64071524e+00,\n",
       "        -1.25071311e+00, -1.23504698e+00, -1.14471328e+00,\n",
       "        -1.10553908e+00, -1.28043222e+00, -1.24249709e+00],\n",
       "       [-9.63049412e-01, -3.85417849e-01, -7.37808585e-01,\n",
       "        -4.68465030e-01, -1.63915008e-01,  3.55938613e-01,\n",
       "         1.18262351e+00,  1.47740126e+00,  1.59822035e+00,\n",
       "         1.56450391e+00,  1.54753053e+00,  1.60286212e+00,\n",
       "         1.48747778e+00,  1.15101504e+00,  6.68590128e-01,\n",
       "         4.53277618e-01,  6.45846248e-01,  6.78141773e-01,\n",
       "         6.19995594e-01,  7.48091042e-01,  1.04484606e+00,\n",
       "         1.04758227e+00,  1.01094520e+00,  1.04059327e+00,\n",
       "         8.98076057e-01,  6.75867200e-01,  3.29366982e-01,\n",
       "        -9.16882828e-02,  1.88022062e-01,  1.51928514e-01,\n",
       "        -1.76860943e-01, -4.41144854e-01, -5.96936822e-01,\n",
       "        -6.90485954e-01, -5.18895686e-01, -5.86406946e-01,\n",
       "        -9.88707721e-01, -1.37539339e+00, -7.32929409e-01,\n",
       "        -8.54078710e-01, -1.07027102e+00, -1.85125363e+00,\n",
       "        -1.54619265e+00, -1.53567767e+00, -1.70010984e+00,\n",
       "        -1.52457917e+00, -1.65403163e+00, -5.93938231e-01,\n",
       "        -2.98643261e-01, -2.99925834e-01, -3.21935445e-01],\n",
       "       [-3.82001370e-01, -1.25326574e-01, -7.48787075e-02,\n",
       "         4.53480594e-02,  3.94307226e-01,  7.63059080e-01,\n",
       "         1.78571773e+00,  2.02661872e+00,  1.93627644e+00,\n",
       "         1.63300514e+00,  1.63296926e+00,  1.71361542e+00,\n",
       "         1.48835421e+00,  7.71783888e-01,  2.96330780e-01,\n",
       "         4.57264602e-01,  4.74370271e-01,  5.55574179e-01,\n",
       "         9.59898412e-01,  1.09599292e+00,  9.78720725e-01,\n",
       "         4.59961355e-01,  2.28729188e-01,  1.58258393e-01,\n",
       "         2.28469983e-01,  3.34075630e-01, -1.44144386e-01,\n",
       "         4.30819355e-02,  1.05771534e-02, -3.09234053e-01,\n",
       "        -3.29973429e-01, -8.87381792e-01, -6.69945478e-01,\n",
       "        -9.59273398e-01, -9.36571300e-01, -1.12803304e+00,\n",
       "        -1.24628568e+00, -1.51217186e+00, -1.14494443e+00,\n",
       "        -1.05163825e+00, -1.24082410e+00, -1.44370914e+00,\n",
       "        -1.35531008e+00, -1.55912077e+00, -1.31563818e+00,\n",
       "        -1.18449652e+00, -1.26264250e+00, -5.19298911e-02,\n",
       "         5.79122500e-03,  2.16550782e-01, -3.79227906e-01],\n",
       "       [-4.26160663e-01, -2.72503078e-01, -2.82564312e-01,\n",
       "        -5.04301906e-01,  2.69664377e-01,  8.15572366e-02,\n",
       "         1.41679311e+00,  1.89005113e+00,  1.96029961e+00,\n",
       "         1.84831762e+00,  1.80361271e+00,  1.82286882e+00,\n",
       "         1.43019116e+00,  6.33145809e-01, -2.14624293e-02,\n",
       "        -7.67126828e-02,  4.72423673e-01,  6.40016258e-01,\n",
       "         1.01817119e+00,  9.27272856e-01,  8.44456196e-01,\n",
       "         7.43922532e-01,  9.39370811e-01,  7.92986929e-01,\n",
       "         3.68266195e-01,  2.06873775e-01,  4.37299982e-02,\n",
       "         1.18496701e-01, -3.46503854e-01, -8.87219608e-01,\n",
       "        -5.04894793e-01, -8.59976292e-01, -1.17485332e+00,\n",
       "        -9.40249443e-01, -8.39588702e-01, -1.41277015e+00,\n",
       "        -1.16749263e+00, -9.28331673e-01, -1.05809546e+00,\n",
       "        -1.32942522e+00, -1.45707250e+00, -1.46144283e+00,\n",
       "        -9.94614661e-01, -1.83391547e+00, -8.04987907e-01,\n",
       "        -6.59652889e-01, -8.63222599e-01,  4.89404976e-01,\n",
       "         5.27691424e-01, -2.30804328e-02, -1.58489943e-01],\n",
       "       [-1.02623188e+00, -7.61958063e-01, -4.47518200e-01,\n",
       "        -4.59462613e-01, -2.90231079e-01,  5.44428170e-01,\n",
       "         1.41832840e+00,  2.12520885e+00,  1.78263855e+00,\n",
       "         1.19197690e+00,  1.05598462e+00,  1.03558922e+00,\n",
       "         8.56844544e-01,  4.71755117e-01,  1.82951957e-01,\n",
       "        -1.57205746e-01, -8.85125771e-02,  1.47641093e-01,\n",
       "         5.88281572e-01,  1.06510627e+00,  1.52437162e+00,\n",
       "         1.53527880e+00,  1.06526840e+00,  8.05947542e-01,\n",
       "         4.65143502e-01,  7.36908615e-01,  6.12991631e-01,\n",
       "        -3.82869244e-01, -2.87929505e-01, -8.93739939e-01,\n",
       "        -1.62826404e-01, -5.62929213e-01, -6.86288476e-01,\n",
       "        -9.29404676e-01, -1.40836298e+00, -1.15715432e+00,\n",
       "        -7.87375331e-01, -1.14435101e+00, -1.11876810e+00,\n",
       "        -1.79466164e+00, -1.46398008e+00, -1.29333591e+00,\n",
       "        -9.51828837e-01, -7.44260371e-01, -1.74360716e+00,\n",
       "        -8.70024264e-01, -7.26228476e-01,  1.15428638e+00,\n",
       "         1.21167850e+00,  4.58981931e-01,  3.03453684e-01],\n",
       "       [-1.36712182e+00, -5.91978431e-01, -3.84541124e-01,\n",
       "        -1.99588761e-01,  2.45685875e-02,  4.27248776e-01,\n",
       "         1.08027101e+00,  2.06789899e+00,  1.66439879e+00,\n",
       "         9.19303447e-02,  4.86205369e-01,  3.19503516e-01,\n",
       "        -1.95918456e-01, -3.66133630e-01,  4.49302383e-02,\n",
       "         4.51123193e-02, -1.48674607e-01, -5.90548337e-01,\n",
       "         4.81224626e-01,  1.51340473e+00,  1.29128838e+00,\n",
       "         1.64785147e+00,  1.50397301e+00,  1.46313012e+00,\n",
       "         1.31091595e+00,  1.28533626e+00,  9.44745362e-01,\n",
       "         3.60741690e-02, -5.53117573e-01, -5.34562409e-01,\n",
       "        -6.99067056e-01, -8.29763234e-01, -1.78451478e-01,\n",
       "        -8.30536008e-01, -1.16233397e+00, -8.31311643e-01,\n",
       "        -1.08255041e+00, -1.49583161e+00, -1.11026847e+00,\n",
       "        -8.49304080e-01, -1.62984478e+00, -4.97353137e-01,\n",
       "        -8.97877693e-01, -4.97893631e-01, -9.03814733e-01,\n",
       "        -1.57097924e+00, -1.12795126e+00,  1.44038701e+00,\n",
       "         1.77127516e+00,  3.04561317e-01, -1.18917808e-01],\n",
       "       [ 4.50438820e-03,  2.57753342e-01, -1.52029783e-01,\n",
       "        -1.98524240e-02,  3.63327831e-01,  7.77810454e-01,\n",
       "         7.55122185e-01,  1.11583614e+00,  1.14877939e+00,\n",
       "         6.21086657e-01,  8.05901408e-01,  1.18911266e+00,\n",
       "         7.70136595e-01,  9.51403007e-03, -4.47917312e-01,\n",
       "        -2.73539931e-01,  6.53039575e-01,  4.19115424e-01,\n",
       "         5.42603612e-01,  1.24689603e+00,  1.94843352e+00,\n",
       "         1.50997138e+00,  1.49178386e+00,  1.34677351e+00,\n",
       "         1.44399273e+00,  8.57624888e-01,  6.35739625e-01,\n",
       "         1.35490566e-01, -1.15946271e-01, -6.83149219e-01,\n",
       "        -1.09227061e+00, -9.29054916e-01, -7.76619077e-01,\n",
       "        -1.65894008e+00, -1.51816511e+00, -1.08134723e+00,\n",
       "        -8.75197351e-01, -1.64159334e+00, -1.78961349e+00,\n",
       "        -8.41062903e-01, -1.36324489e+00, -4.05154943e-01,\n",
       "        -7.42722332e-01, -6.16209805e-01, -1.44515193e+00,\n",
       "        -1.87114394e+00, -1.01050174e+00,  1.28723472e-01,\n",
       "         1.09521937e+00,  4.79569554e-01, -4.03433710e-01],\n",
       "       [ 4.57718849e-01,  1.01326346e+00,  5.72658241e-01,\n",
       "         2.95679748e-01,  3.77949148e-01,  6.59805059e-01,\n",
       "         5.88953733e-01,  9.92393255e-01,  1.43277657e+00,\n",
       "         1.31835330e+00,  1.26524389e+00,  1.30475152e+00,\n",
       "         9.93996322e-01,  6.57246232e-01,  3.58737230e-01,\n",
       "         7.10717797e-01,  4.07575250e-01,  2.81339377e-01,\n",
       "         3.29468623e-02,  8.14175427e-01,  1.09404123e+00,\n",
       "         1.21397769e+00,  1.00321996e+00,  7.75249124e-01,\n",
       "         7.69476414e-01,  5.53796113e-01,  3.95666897e-01,\n",
       "        -5.03503298e-03, -2.65881509e-01, -5.01222193e-01,\n",
       "        -1.03011870e+00, -8.15774381e-01, -1.09391391e+00,\n",
       "        -1.36490583e+00, -1.01585710e+00, -1.17391217e+00,\n",
       "        -1.32070994e+00, -1.82832789e+00, -1.55924714e+00,\n",
       "        -1.56370783e+00, -1.20588756e+00, -1.41534162e+00,\n",
       "        -1.33856332e+00, -1.50232863e+00, -1.13609660e+00,\n",
       "        -1.32729340e+00, -1.22574961e+00, -2.66580075e-01,\n",
       "         7.33303130e-01,  1.19218755e+00,  6.89254940e-01],\n",
       "       [ 1.85684815e-01,  7.88750291e-01,  4.47699249e-01,\n",
       "         3.69102806e-02,  3.34329128e-01,  6.30665123e-01,\n",
       "         7.66082168e-01,  9.97665226e-01,  1.39332080e+00,\n",
       "         1.29695332e+00,  1.18514109e+00,  1.35635448e+00,\n",
       "         1.21889639e+00,  6.77240491e-01,  2.73520350e-01,\n",
       "         5.13835728e-01,  5.88794231e-01,  4.06070769e-01,\n",
       "         4.40308839e-01,  7.31387794e-01,  1.37084484e+00,\n",
       "         1.42271042e+00,  9.10597920e-01,  9.93976831e-01,\n",
       "         1.10870147e+00,  7.75773823e-01,  6.66528285e-01,\n",
       "         3.92113596e-01, -1.60061315e-01, -4.68283445e-01,\n",
       "        -4.30988342e-01, -2.03252882e-01, -3.34064513e-01,\n",
       "        -5.83179653e-01, -1.08551645e+00, -9.18728590e-01,\n",
       "        -9.69897449e-01, -1.35568547e+00, -1.69038606e+00,\n",
       "        -1.31228399e+00, -1.13975215e+00, -1.76419318e+00,\n",
       "        -1.81380510e+00, -1.73118103e+00, -1.59132028e+00,\n",
       "        -1.62857687e+00, -1.48347521e+00, -1.01074958e+00,\n",
       "        -1.01433285e-01,  1.33542523e-01, -2.67585427e-01],\n",
       "       [-3.00928354e-01,  1.53896317e-01, -1.93062082e-01,\n",
       "         4.02131192e-02,  1.58132866e-01,  3.48676622e-01,\n",
       "         8.53759289e-01,  1.28011751e+00,  1.26042688e+00,\n",
       "         1.33726060e+00,  1.32031190e+00,  1.48919618e+00,\n",
       "         1.11640310e+00,  6.28080785e-01,  2.55039781e-01,\n",
       "         3.73329848e-01,  4.61459070e-01,  6.02220774e-01,\n",
       "         6.98807120e-01,  8.11941683e-01,  1.41617179e+00,\n",
       "         1.30874693e+00,  1.09295309e+00,  1.23450911e+00,\n",
       "         1.22929668e+00,  9.93501842e-01,  9.27786887e-01,\n",
       "         7.20986426e-01,  2.77545869e-01, -3.43207419e-01,\n",
       "        -2.42374003e-01, -2.01632112e-01, -5.28772533e-01,\n",
       "        -6.56057060e-01, -9.88963604e-01, -9.92924571e-01,\n",
       "        -1.27171016e+00, -1.24081874e+00, -1.31364143e+00,\n",
       "        -1.55102491e+00, -1.16134858e+00, -1.47126031e+00,\n",
       "        -1.66065681e+00, -1.50634384e+00, -1.45553756e+00,\n",
       "        -1.42363811e+00, -1.52705860e+00, -1.12874353e+00,\n",
       "        -3.16082835e-01, -3.08826357e-01, -6.06159151e-01],\n",
       "       [-1.77492380e-01,  4.19477552e-01,  6.75284714e-02,\n",
       "         4.50184584e-01,  1.25036146e-02,  3.10157359e-01,\n",
       "         8.78404379e-01,  1.18379307e+00,  1.12426603e+00,\n",
       "         9.46576893e-01,  1.11847281e+00,  9.48627234e-01,\n",
       "         6.19416475e-01,  5.61358452e-01,  4.00109172e-01,\n",
       "         4.55992639e-01,  1.85816929e-01,  3.77468646e-01,\n",
       "         7.46414900e-01,  8.63147616e-01,  1.15405667e+00,\n",
       "         1.47542179e+00,  1.27678514e+00,  1.28833938e+00,\n",
       "         1.41323650e+00,  1.31230962e+00,  1.24383116e+00,\n",
       "         9.19942021e-01,  5.51418781e-01,  2.05270424e-01,\n",
       "        -2.74748832e-01, -5.92037916e-01, -6.28277600e-01,\n",
       "        -7.01504469e-01, -6.90421700e-01, -9.68226492e-01,\n",
       "        -1.08377910e+00, -1.05729401e+00, -1.09521532e+00,\n",
       "        -1.22392809e+00, -1.57525146e+00, -1.73806202e+00,\n",
       "        -1.48000634e+00, -1.64395118e+00, -1.74125051e+00,\n",
       "        -1.54515064e+00, -1.60490024e+00, -1.11190557e+00,\n",
       "        -4.76711243e-01, -4.37712997e-01, -6.62499785e-01],\n",
       "       [-1.92796871e-01,  2.84615248e-01,  1.31054595e-03,\n",
       "         2.43998960e-01,  1.44667327e-02,  2.50733435e-01,\n",
       "         6.34266138e-01,  1.19708145e+00,  1.15761471e+00,\n",
       "         5.28788805e-01,  8.15288901e-01,  8.93483877e-01,\n",
       "         8.13942432e-01,  3.36956859e-01,  3.01536769e-01,\n",
       "         3.30077082e-01,  2.53072649e-01,  4.16625798e-01,\n",
       "         7.76088417e-01,  8.55296791e-01,  1.21630681e+00,\n",
       "         1.50997806e+00,  1.31561542e+00,  1.45908308e+00,\n",
       "         1.54909718e+00,  1.50291002e+00,  1.39671993e+00,\n",
       "         1.09030533e+00,  8.15138280e-01,  3.45060617e-01,\n",
       "         1.34564973e-02, -5.07797599e-01, -4.12929833e-01,\n",
       "        -5.71812451e-01, -1.08099675e+00, -9.98449981e-01,\n",
       "        -9.68728781e-01, -9.22303855e-01, -1.15810966e+00,\n",
       "        -1.33775413e+00, -1.44138908e+00, -1.56217360e+00,\n",
       "        -1.42619026e+00, -1.58552873e+00, -1.41843176e+00,\n",
       "        -1.46969032e+00, -1.41076267e+00, -1.31148338e+00,\n",
       "        -7.41699159e-01, -6.40890896e-01, -1.15899742e+00]], dtype=float32)"
      ]
     },
     "execution_count": 74,
     "metadata": {},
     "output_type": "execute_result"
    }
   ],
   "source": [
    "melspectrogram"
   ]
  },
  {
   "cell_type": "markdown",
   "id": "7ae0a639",
   "metadata": {
    "id": "7ae0a639"
   },
   "source": [
    "Note that the shape of the array (K x T) represents the number of frequency bands (K) and the number of spectral vectors in this representation (here, K=13, T=43). K is a hyperparameter and the recommended values in ASR research are (13, 39, 81, etc). Here, we fix K = 13. On the other hand, T varies from sample to sample depending on the duration of the sample.  "
   ]
  },
  {
   "cell_type": "code",
   "execution_count": 15,
   "id": "f17e8976",
   "metadata": {
    "executionInfo": {
     "elapsed": 22,
     "status": "aborted",
     "timestamp": 1674212543219,
     "user": {
      "displayName": "Hyoseung Kang",
      "userId": "00233629824676120159"
     },
     "user_tz": -60
    },
    "id": "f17e8976"
   },
   "outputs": [
    {
     "data": {
      "image/png": "[encoded data removed]",
      "text/plain": [
       "<Figure size 1000x200 with 1 Axes>"
      ]
     },
     "metadata": {},
     "output_type": "display_data"
    }
   ],
   "source": [
    "# plot and view the spectrogram\n",
    "\n",
    "fig, ax = plt.subplots(figsize=(10, 2), sharex=True)\n",
    "\n",
    "img = librosa.display.specshow(\n",
    "    melspectrogram, \n",
    "    sr=sr, \n",
    "    x_axis='time', \n",
    "    y_axis='mel', \n",
    "    cmap='viridis', \n",
    "    fmax=4000, \n",
    "    hop_length=80\n",
    ")\n",
    "\n",
    "ax.set(title='Log-frequency power spectrogram')\n",
    "\n",
    "ax.label_outer()"
   ]
  },
  {
   "cell_type": "markdown",
   "id": "e6c872b6",
   "metadata": {
    "id": "e6c872b6"
   },
   "source": [
    "As you can see above from the figure, the spectrogram representation can be viewed as a matrix $\\mathbf{X} \\in \\mathbb{R}^{T} \\times \\mathbb{R}^{k}$.  "
   ]
  },
  {
   "cell_type": "markdown",
   "id": "d5392b92",
   "metadata": {
    "id": "d5392b92"
   },
   "source": [
    "## Task I\n",
    "1. One problem with the spectrogram as a speech feature represetation is that different speech samples would have dfferent durations due to inherent speech variability (e.g., speech rate, speaker dialect, etc). That is, the $T$ in the $(T \\times k)$-dimensional representation would be different for each sample. Therefore, for the baseline model, we will implement a method to have a fixed-size representation for all speech samples. Write a function downsample_spectrogram(X, N) that takes as input a spectrogram $\\mathbf{X} \\in \\mathbb{R}^{T \\times k}$ and a parameter N <= 25. The function should (1) make N equally-sized splits of S across the time-axis, (2) apply a pooling technique (e.g., mean pooling) to each split across the frequency axis to obtain an array that represents a downsampled version of the spectrogram $\\mathbf{X}' \\in \\mathbb{R}^{N \\times k}$, and (3) re-arange $\\mathbf{X}'$ as a vector $\\mathbf{v} \\in \\mathbb{R}^{Nk}$.    \n",
    "\n",
    "2. Using the downsample_spectrogram(X, N) function, transform all the speech samples into vectors $\\mathbf{v} \\in \\mathbb{R}^{Nk}$. \n",
    "\n",
    "3. Given the speaker-based train/dev/test spilts in the SDR_metadata.tsv, fit a linear model on the training samples. That is, your model should be build on data from 4 speakers {'nicolas', 'theo' , 'jackson',  'george'}. Hint: you can experiment with a few model alternatives in the SGDClassifier module in scikit-learn. \n",
    "\n",
    "4. Evaluate you model on the dev and test splits. Use accuracy as an evaluation metric. Analyze the model performance using a [confusion matrix](https://en.wikipedia.org/wiki/Confusion_matrix) of the all possible labels (0-9), Analyze [precision, recall](https://en.wikipedia.org/wiki/Precision_and_recall), [F1-score](https://en.wikipedia.org/wiki/F-score) for each label. Report your observation."
   ]
  },
  {
   "cell_type": "code",
   "execution_count": 88,
   "id": "423a3e64",
   "metadata": {
    "executionInfo": {
     "elapsed": 23,
     "status": "aborted",
     "timestamp": 1674212543220,
     "user": {
      "displayName": "Hyoseung Kang",
      "userId": "00233629824676120159"
     },
     "user_tz": -60
    },
    "id": "423a3e64"
   },
   "outputs": [],
   "source": [
    "def downsample_spectrogram(spectrogram, n=15):\n",
    "    \"\"\"\n",
    "    Given a spectrogram of an arbitrary length/duration (X ∈ K x T),\n",
    "    return a downsampled version of the spectrogram v ∈ K * N\n",
    "    \"\"\"\n",
    "    if not n:\n",
    "        return spectrogram\n",
    "    k, t = spectrogram.shape\n",
    "    each_split_size, remaining_size = divmod(t, n)\n",
    "    splitted = [spectrogram[:, i * each_split_size:(i + 1) * each_split_size + (i < remaining_size)]\n",
    "                for i in range(n)]\n",
    "    splitted_mean_arr = [np.mean(split, axis=1) for split in splitted]\n",
    "    return np.reshape(np.column_stack(splitted_mean_arr), (n * k,))"
   ]
  },
  {
   "cell_type": "code",
   "execution_count": 89,
   "id": "819ec397",
   "metadata": {},
   "outputs": [
    {
     "data": {
      "text/plain": [
       "array([-1.5349306 ,  0.5341025 ,  0.77363414,  0.7085912 ,  0.64846504,\n",
       "        0.47965285,  0.6007263 ,  0.98346806,  1.2481326 ,  1.0405673 ,\n",
       "        0.15925427, -0.09535021, -0.57800996, -0.38900587, -1.4425331 ,\n",
       "       -1.5899994 , -0.169277  ,  1.0060797 ,  1.2225453 ,  0.7848202 ,\n",
       "        0.46125776,  0.6467042 ,  1.0253831 ,  1.129516  ,  0.9810336 ,\n",
       "        0.04874695, -0.09812971, -0.6522172 , -0.42654097, -1.5228201 ,\n",
       "       -0.6386852 ,  0.22654553,  1.4556873 ,  1.5505935 ,  0.9400901 ,\n",
       "        0.5993153 ,  0.80431086,  1.0330402 ,  0.6344368 ,  0.0827541 ,\n",
       "       -0.4049809 , -0.59859616, -1.0323435 , -1.2585344 , -1.5939933 ,\n",
       "       -0.13421464,  0.747108  ,  1.8454045 ,  1.616986  ,  0.75343335,\n",
       "        0.6117769 ,  1.0115373 ,  0.2823163 ,  0.13946708, -0.08519166,\n",
       "       -0.62910026, -1.0079592 , -1.301134  , -1.2453905 , -1.4100231 ,\n",
       "       -0.37138247,  0.31592822,  1.7788653 ,  1.7262475 ,  0.49129042,\n",
       "        0.5134746 ,  0.92996675,  0.82542676,  0.20629   , -0.37174225,\n",
       "       -0.8465748 , -1.0642028 , -1.0513066 , -1.4159802 , -1.2111727 ,\n",
       "       -0.67379266,  0.30326572,  1.6295382 ,  1.0350988 ,  0.33858648,\n",
       "        0.12255108,  1.0592531 ,  1.1354983 ,  0.60501456, -0.5215129 ,\n",
       "       -0.47068134, -1.164974  , -1.0168315 , -1.5173259 , -1.1465654 ,\n",
       "       -0.6358075 ,  0.3331249 ,  1.2261248 ,  0.17543021, -0.11800238,\n",
       "       -0.0532215 ,  1.0953059 ,  1.5383182 ,  1.1803325 , -0.35053527,\n",
       "       -0.56909394, -0.94139385, -1.2295502 , -0.9921673 , -0.76652867,\n",
       "        0.02259388,  0.46910203,  0.9102061 ,  0.84655935,  0.01454835,\n",
       "        0.33530468,  1.2459778 ,  1.4495096 ,  0.97911906, -0.22120164,\n",
       "       -0.9326482 , -1.4194841 , -1.4354681 , -0.8698209 , -0.9346947 ,\n",
       "        0.5848301 ,  0.48059693,  1.0831192 ,  1.2205862 ,  0.68017435,\n",
       "        0.35814482,  0.6470545 ,  0.9974823 ,  0.57297975, -0.25737956,\n",
       "       -0.97993565, -1.1848917 , -1.5694283 , -1.394979  , -1.3256627 ,\n",
       "        0.36476117,  0.44199666,  1.1135054 ,  1.2643363 ,  0.6708732 ,\n",
       "        0.48725235,  0.84751385,  1.109095  ,  0.85033447, -0.07874372,\n",
       "       -0.32276857, -0.8624749 , -1.3386564 , -1.4054098 , -1.7121023 ,\n",
       "       -0.07497025,  0.35019547,  1.1828911 ,  1.3157929 ,  0.5932134 ,\n",
       "        0.5339542 ,  0.97564024,  1.2120696 ,  1.0501951 ,  0.21844162,\n",
       "       -0.32425955, -0.8793151 , -1.2753901 , -1.3945446 , -1.5408462 ,\n",
       "        0.18992455,  0.41281247,  1.0332601 ,  0.90827334,  0.50921917,\n",
       "        0.4414233 ,  0.9212064 ,  1.3468488 ,  1.3231257 ,  0.55887705,\n",
       "       -0.49835476, -0.7867176 , -1.0787629 , -1.5124139 , -1.621736  ,\n",
       "        0.08428197,  0.28586632,  0.87943774,  0.76287603,  0.4456283 ,\n",
       "        0.44396597,  0.9492307 ,  1.4282255 ,  1.4829091 ,  0.7501681 ,\n",
       "       -0.30242363, -0.88375306, -1.0163808 , -1.4471058 , -1.476717  ],\n",
       "      dtype=float32)"
      ]
     },
     "execution_count": 89,
     "metadata": {},
     "output_type": "execute_result"
    }
   ],
   "source": [
    "downsample_spectrogram(melspectrogram, 15)"
   ]
  },
  {
   "cell_type": "code",
   "execution_count": null,
   "id": "376c2f45",
   "metadata": {},
   "outputs": [],
   "source": [
    "from sklearn.preprocessing import StandardScaler\n",
    "\n",
    "scaler = StandardScaler()\n",
    "X_train_scaled = scaler.fit_transform(X_train)\n",
    "X_test_scaled = scaler.transform(X_test)"
   ]
  },
  {
   "cell_type": "code",
   "execution_count": null,
   "id": "1a9076ee",
   "metadata": {},
   "outputs": [],
   "source": [
    "rom sklearn.linear_model import SGDClassifier\n",
    "\n",
    "alphas = [0.0001, 0.001, 0.01, 0.1]\n",
    "\n",
    "for alpha in alphas:\n",
    "    clf = SGDClassifier(loss='log', penalty='l2', alpha=alpha, max_iter=1000, tol=1e-3)\n",
    "    clf.fit(X_train_scaled, y_train)\n",
    "    score = clf.score(X_test_scaled, y_test)\n",
    "    print(f'alpha={alpha:.4f}, test score={score:.4f}')"
   ]
  },
  {
   "cell_type": "markdown",
   "id": "1bbe63ed",
   "metadata": {
    "id": "1bbe63ed"
   },
   "source": [
    "## Baseline Model"
   ]
  },
  {
   "cell_type": "code",
   "execution_count": null,
   "id": "c53298ad",
   "metadata": {
    "executionInfo": {
     "elapsed": 24,
     "status": "aborted",
     "timestamp": 1674212543221,
     "user": {
      "displayName": "Hyoseung Kang",
      "userId": "00233629824676120159"
     },
     "user_tz": -60
    },
    "id": "c53298ad"
   },
   "outputs": [],
   "source": [
    "# prepare data and split \n",
    "\n",
    "# train a linear model \n",
    "\n",
    "# evaluate the model using accuracy metric\n",
    "\n",
    "# analyze the confusion matrix of the baseline \n",
    "\n",
    "# report precision, recall, F1-score for each label "
   ]
  },
  {
   "cell_type": "code",
   "execution_count": null,
   "id": "531975e8",
   "metadata": {},
   "outputs": [],
   "source": [
    "# X_train is a matrix of training spectrograms, each row representing one spectrogram\n",
    "# y_train is a vector of training labels\n",
    "# X_test is a matrix of test spectrograms, each row representing one spectrogram\n",
    "# y_test is a vector of test labels\n",
    "\n",
    "# Create an instance of the SGDClassifier with default parameters\n",
    "clf = SGDClassifier()\n",
    "\n",
    "# Train the classifier on the training set\n",
    "clf.fit(X_train, y_train)\n",
    "\n",
    "# Make predictions on the test set\n",
    "y_pred = clf.predict(X_test)\n",
    "\n",
    "# Compute the accuracy of the classifier on the test set\n",
    "accuracy = accuracy_score(y_test, y_pred)\n",
    "print(\"Accuracy:\", accuracy)\n",
    "\n",
    "cm = confusion_matrix(y_true, y_pred)\n",
    "print(\"Confusion matrix:\\n\", cm)\n",
    "\n",
    "plot_confusion_matrix(clf, X_test, y_test)\n",
    "plt.title('Confusion Matrix')\n",
    "plt.show()\n",
    "\n",
    "report = classification_report(y_true, y_pred)\n",
    "print(\"Classification report:\\n\", report)"
   ]
  },
  {
   "cell_type": "markdown",
   "id": "f9006632",
   "metadata": {
    "id": "435d62c9"
   },
   "source": [
    "## Task II\n",
    "1. Having established a baseline with a linear model trained on a downsampled signal representation of the speech segment, this task aims to learn a classifier based on the full speech segment. To this end, you will implement a neural model that is suitable for sequential data such as recurrent DNN, convolutional DNN with 1-D temporal convolution, or an audio transformer. The model should take the acoustic sample as it is (i.e., the Mel spectrogram could have an arbitrary length) without the need to downsample the segment. You need to implement at least two of the aforementioned models. Do the neural models improve accuracy over the baseline model? Do you observe any signs of overfitting to the training data? How do the hyperparameters affect the model performance? Report and discuss your observations.        \n",
    "\n",
    "2. Evaluate your (best) neural models and compare to the baseline model using the same evalution process as in task I.4. \n",
    "\n",
    "3. Use a dimensionality reduction algorithm such as t-SNE \\[[1](https://en.wikipedia.org/wiki/T-distributed_stochastic_neighbor_embedding),[2](https://pypi.org/project/tsne-torch/),[3](https://scikit-learn.org/stable/modules/generated/sklearn.manifold.TSNE.html)\\] or [UMAP](https://umap-learn.readthedocs.io/en/latest/basic_usage.html) to analyze how the different models seperate the different classes (the last non-linear layer in your model). Compare to the downsampled representation you used in the baseline and report your observations.\n",
    "\n",
    "4. Are the differences between the different models statistically significant? To answer this question, you need to implement a statistical significance test based on bootstrapping method. To read more how to estiame p-values based on bootstrapping, we recommend the materials on this paper https://aclanthology.org/D12-1091.pdf. Include the baseline model in your evaluation. "
   ]
  },
  {
   "cell_type": "code",
   "execution_count": null,
   "id": "b31c9d34",
   "metadata": {},
   "outputs": [],
   "source": [
    "from tensorflow import keras\n",
    "\n",
    "# Define the model architecture\n",
    "model = keras.Sequential([\n",
    "    # Input layer\n",
    "    keras.layers.Input(shape=(None, N_MELS)),\n",
    "    \n",
    "    # RNN layer\n",
    "    keras.layers.LSTM(units=64, return_sequences=True),\n",
    "    \n",
    "    # Dense layer\n",
    "    keras.layers.Dense(units=num_classes, activation='softmax')\n",
    "])\n",
    "\n",
    "# Compile the model\n",
    "model.compile(optimizer='adam', loss='categorical_crossentropy', metrics=['accuracy'])\n",
    "\n",
    "# Train the model\n",
    "model.fit(X_train, y_train, batch_size=32, epochs=10, validation_data=(X_val, y_val))\n",
    "\n",
    "# Evaluate the model\n",
    "loss, accuracy = model.evaluate(X_test, y_test)\n",
    "print(\"Test loss:\", loss)\n",
    "print(\"Test accuracy:\", accuracy)"
   ]
  },
  {
   "cell_type": "code",
   "execution_count": null,
   "id": "49d1fa30",
   "metadata": {},
   "outputs": [],
   "source": [
    "from tensorflow import keras\n",
    "\n",
    "# Define the model architecture\n",
    "model = keras.Sequential([\n",
    "    # Input layer\n",
    "    keras.layers.Input(shape=(None, N_MELS)),\n",
    "    \n",
    "    # Convolutional layers\n",
    "    keras.layers.Conv1D(filters=64, kernel_size=3, activation='relu', padding='same'),\n",
    "    keras.layers.Conv1D(filters=64, kernel_size=3, activation='relu', padding='same'),\n",
    "    keras.layers.Conv1D(filters=64, kernel_size=3, activation='relu', padding='same'),\n",
    "    \n",
    "    # Global average pooling layer\n",
    "    keras.layers.GlobalAveragePooling1D(),\n",
    "    \n",
    "    # Dense layer\n",
    "    keras.layers.Dense(units=num_classes, activation='softmax')\n",
    "])\n",
    "\n",
    "# Compile the model\n",
    "model.compile(optimizer='adam', loss='categorical_crossentropy', metrics=['accuracy'])\n",
    "\n",
    "# Train the model\n",
    "model.fit(X_train, y_train, batch_size=32, epochs=10, validation_data=(X_val, y_val))\n",
    "\n",
    "# Evaluate the model\n",
    "loss, accuracy = model.evaluate(X_test, y_test)\n",
    "print(\"Test loss:\", loss)\n",
    "print(\"Test accuracy:\", accuracy)\n"
   ]
  },
  {
   "cell_type": "code",
   "execution_count": null,
   "id": "d4d6a104",
   "metadata": {},
   "outputs": [],
   "source": [
    "from tensorflow import keras\n",
    "from tensorflow.keras.layers import Input, Dense, LayerNormalization, Dropout\n",
    "from tensorflow.keras.layers.experimental.preprocessing import Resizing, Normalization\n",
    "from tensorflow.keras.layers.experimental import preprocessing\n",
    "from tensorflow.keras import backend as K\n",
    "\n",
    "# Define the model architecture\n",
    "def transformer_model(n_classes, input_shape, d_model=256, n_heads=4, ff_dim=1024, dropout_rate=0.2):\n",
    "    # Input layer\n",
    "    inputs = Input(shape=input_shape)\n",
    "    \n",
    "    # Resize the input to a fixed shape\n",
    "    resize_layer = Resizing(input_shape[0], d_model)(inputs)\n",
    "    \n",
    "    # Normalize the input\n",
    "    normalize_layer = Normalization()(resize_layer)\n",
    "    \n",
    "    # Add positional encoding\n",
    "    pos_encoding_layer = preprocessing.PositionalEncoding()(normalize_layer)\n",
    "    \n",
    "    # Add dropout\n",
    "    dropout_layer = Dropout(dropout_rate)(pos_encoding_layer)\n",
    "    \n",
    "    # Transformer layers\n",
    "    for i in range(4):\n",
    "        # Multi-head attention\n",
    "        attn_layer = keras.layers.MultiHeadAttention(num_heads=n_heads, key_dim=d_model // n_heads)(dropout_layer, dropout_layer)\n",
    "        attn_layer = keras.layers.Dropout(dropout_rate)(attn_layer)\n",
    "        attn_layer = keras.layers.LayerNormalization(epsilon=1e-6)(dropout_layer + attn_layer)\n",
    "        \n",
    "        # Feed-forward layer\n",
    "        ff_layer = keras.layers.Dense(ff_dim, activation='relu')(attn_layer)\n",
    "        ff_layer = keras.layers.Dense(d_model)(ff_layer)\n",
    "        ff_layer = keras.layers.Dropout(dropout_rate)(ff_layer)\n",
    "        ff_layer = keras.layers.LayerNormalization(epsilon=1e-6)(attn_layer + ff_layer)\n",
    "        \n",
    "        # Set the output of the final transformer layer as the input to the classification layer\n",
    "        dropout_layer = ff_layer\n",
    "        \n",
    "    # Classification layer\n",
    "    outputs = Dense(n_classes, activation='softmax')(dropout_layer)\n",
    "    \n",
    "    # Build the model\n",
    "    model = keras.Model(inputs=inputs, outputs=outputs)\n",
    "    \n",
    "    return model\n",
    "\n",
    "# Create the model\n",
    "model = transformer_model(n_classes=num_classes, input_shape=(None, N_MELS))\n",
    "\n",
    "# Compile the model\n",
    "model.compile(optimizer='adam', loss='categorical_crossentropy', metrics=['accuracy'])\n",
    "\n",
    "# Train the model\n",
    "model.fit(X_train, y_train, batch_size=32, epochs=10, validation_data=(X_val, y_val))\n",
    "\n",
    "# Evaluate the model\n",
    "loss, accuracy = model.evaluate(X_test, y_test)\n",
    "print(\"Test loss:\", loss)\n",
    "print(\"Test accuracy:\", accuracy)"
   ]
  },
  {
   "cell_type": "markdown",
   "id": "8f95e312",
   "metadata": {
    "id": "8f95e312"
   },
   "source": [
    "## Task III (Open Ended)\n",
    "1. Consider the case where we have speech data from a single speaker (e.g., george). Train your models on this subset of the data. What do you observe? How does this affect the model performance? \n",
    "\n",
    "2. Even though a model is trained on a single speaker, we would like the model to generalizes to any speaker. To this end, one can use data augmentation techniques to artificially create more samples for each class. Some of these augmentations can be applied on the spectrogram (e.g., SpecAugment https://ai.googleblog.com/2019/04/specaugment-new-data-augmentation.html), and other can be applied on the raw waveform before creating the spectrogram such as pitch manipulation (https://github.com/facebookresearch/WavAugment). Explore the effect of one type of augmentation from each type. Report your observation and anaylze the confusion matrices.\n",
    "\n",
    "3. Data augmentation techniques create different \"views\" of each training sample in a stochastic or determinstic approach. One can leaverage speech data augmentation to create views for training a neural network in a contrastive learning setting with margin-based objective function (for more info, read http://proceedings.mlr.press/v130/al-tahan21a/al-tahan21a.pdf). Implement at least one model using a contrastive loss based on different views of the training samples. Does this model improve over the model without contrastive learning? Report and discuss your observations. \n",
    "\n",
    "For more information on the contrastive learning framework, you can refer to this paper\n",
    "https://ieeexplore.ieee.org/stamp/stamp.jsp?arnumber=9226466"
   ]
  },
  {
   "cell_type": "code",
   "execution_count": null,
   "id": "33674cd9",
   "metadata": {
    "executionInfo": {
     "elapsed": 25,
     "status": "aborted",
     "timestamp": 1674212543222,
     "user": {
      "displayName": "Hyoseung Kang",
      "userId": "00233629824676120159"
     },
     "user_tz": -60
    },
    "id": "33674cd9"
   },
   "outputs": [],
   "source": []
  },
  {
   "cell_type": "code",
   "execution_count": null,
   "id": "6aab3876",
   "metadata": {
    "executionInfo": {
     "elapsed": 26,
     "status": "aborted",
     "timestamp": 1674212543223,
     "user": {
      "displayName": "Hyoseung Kang",
      "userId": "00233629824676120159"
     },
     "user_tz": -60
    },
    "id": "6aab3876"
   },
   "outputs": [],
   "source": []
  },
  {
   "cell_type": "code",
   "execution_count": null,
   "id": "34c37dff",
   "metadata": {
    "executionInfo": {
     "elapsed": 26,
     "status": "aborted",
     "timestamp": 1674212543224,
     "user": {
      "displayName": "Hyoseung Kang",
      "userId": "00233629824676120159"
     },
     "user_tz": -60
    },
    "id": "34c37dff"
   },
   "outputs": [],
   "source": []
  }
 ],
 "metadata": {
  "colab": {
   "provenance": []
  },
  "kernelspec": {
   "display_name": "Python 3 (ipykernel)",
   "language": "python",
   "name": "python3"
  },
  "language_info": {
   "codemirror_mode": {
    "name": "ipython",
    "version": 3
   },
   "file_extension": ".py",
   "mimetype": "text/x-python",
   "name": "python",
   "nbconvert_exporter": "python",
   "pygments_lexer": "ipython3",
   "version": "3.9.6"
  }
 },
 "nbformat": 4,
 "nbformat_minor": 5
}
